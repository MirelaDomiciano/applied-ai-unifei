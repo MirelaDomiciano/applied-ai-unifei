{
  "cells": [
    {
      "cell_type": "markdown",
      "metadata": {
        "id": "IMriYbpCyn1U"
      },
      "source": [
        "# Classificando com Técnicas Clássicas"
      ]
    },
    {
      "cell_type": "markdown",
      "metadata": {
        "id": "yqyubMA1tMZk"
      },
      "source": [
        "## Imports"
      ]
    },
    {
      "cell_type": "code",
      "execution_count": 1,
      "metadata": {
        "id": "YaBsMUbcheo7"
      },
      "outputs": [],
      "source": [
        "import numpy as np\n",
        "from sklearn.model_selection import train_test_split\n",
        "from sklearn.metrics import accuracy_score, classification_report, confusion_matrix\n",
        "from sklearn import svm\n",
        "from sklearn.ensemble import RandomForestClassifier\n",
        "from sklearn.decomposition import PCA\n",
        "import xgboost as xgb\n",
        "from tensorflow.keras.datasets import cifar10\n",
        "import time\n"
      ]
    },
    {
      "cell_type": "markdown",
      "metadata": {
        "id": "V7LEiZXbtRBJ"
      },
      "source": [
        "## Carregando dataset"
      ]
    },
    {
      "cell_type": "code",
      "execution_count": 2,
      "metadata": {
        "id": "Qx_82rXueyrA"
      },
      "outputs": [],
      "source": [
        "(x_train, y_train), (x_test, y_test) = cifar10.load_data()"
      ]
    },
    {
      "cell_type": "code",
      "execution_count": 3,
      "metadata": {
        "id": "Z2VmJicKfmp2"
      },
      "outputs": [],
      "source": [
        "# Redimensionando as imagens\n",
        "x_train = x_train.reshape(x_train.shape[0], -1)\n",
        "x_test = x_test.reshape(x_test.shape[0], -1)\n",
        "\n",
        "# Normalizando os dados\n",
        "x_train = x_train.astype('float32') / 255.0\n",
        "x_test = x_test.astype('float32') / 255.0\n",
        "\n",
        "# Convertendo os rótulos para o formato adequado\n",
        "y_train = y_train.ravel()\n",
        "y_test = y_test.ravel()"
      ]
    },
    {
      "cell_type": "code",
      "execution_count": 4,
      "metadata": {
        "id": "TaOWLhEpgkmV"
      },
      "outputs": [],
      "source": [
        "x_train, x_val, y_train, y_val = train_test_split(x_train, y_train, test_size=0.2, random_state=42)"
      ]
    },
    {
      "cell_type": "markdown",
      "metadata": {
        "id": "X7LYWvkFtb-b"
      },
      "source": [
        "## SVM"
      ]
    },
    {
      "cell_type": "markdown",
      "metadata": {
        "id": "ab19irJEBEgm"
      },
      "source": [
        "(Muito tempo para rodar)"
      ]
    },
    {
      "cell_type": "code",
      "execution_count": null,
      "metadata": {
        "id": "uhb9hDs1hasu"
      },
      "outputs": [],
      "source": [
        "svm_model = svm.SVC(random_state=42, probability=False)\n",
        "start_time = time.time()\n",
        "svm_model.fit(x_train, y_train)\n",
        "end_time = time.time()\n",
        "svm_training_time = end_time - start_time\n",
        "print(f\"Tempo de treinamento da SVM (sem PCA): {svm_training_time:.2f} segundos\")\n",
        "y_pred_svm = svm_model.predict(x_test)\n",
        "svm_accuracy = accuracy_score(y_test, y_pred_svm)\n",
        "print(f\"Acurácia da SVM (sem PCA): {svm_accuracy:.4f}\")\n",
        "print(\"\\nRelatório de Classificação (SVM sem PCA):\\n\", classification_report(y_test, y_pred_svm))\n",
        "print(\"\\nMatriz de Confusão (SVM sem PCA):\\n\", confusion_matrix(y_test, y_pred_svm))"
      ]
    },
    {
      "cell_type": "markdown",
      "metadata": {
        "id": "Vl0GBfoniuaw"
      },
      "source": [
        "## Decomposição do dataset"
      ]
    },
    {
      "cell_type": "code",
      "execution_count": 5,
      "metadata": {
        "id": "W_Qvq94xPTIp"
      },
      "outputs": [],
      "source": [
        "n_components = 100\n",
        "pca = PCA(n_components=n_components, whiten=True, random_state=42)\n",
        "pca.fit(x_train)\n",
        "x_train_pca = pca.transform(x_train)\n",
        "x_test_pca = pca.transform(x_test)\n",
        "x_val_pca = pca.transform(x_val)"
      ]
    },
    {
      "cell_type": "code",
      "execution_count": 13,
      "metadata": {
        "colab": {
          "base_uri": "https://localhost:8080/"
        },
        "id": "jPg_GpepiyAB",
        "outputId": "c7dac1ac-aca8-400c-84e8-e1390aad73ed"
      },
      "outputs": [
        {
          "name": "stdout",
          "output_type": "stream",
          "text": [
            "Tempo de treinamento da SVM (com PCA): 1049.83 segundos\n"
          ]
        }
      ],
      "source": [
        "svm_model_pca = svm.SVC(kernel='linear', C=1.0, random_state=42, probability=False)\n",
        "start_time = time.time()\n",
        "svm_model_pca.fit(x_train_pca, y_train)\n",
        "end_time = time.time()\n",
        "svm_pca_training_time = end_time - start_time\n",
        "print(f\"Tempo de treinamento da SVM (com PCA): {svm_pca_training_time:.2f} segundos\")"
      ]
    },
    {
      "cell_type": "code",
      "execution_count": null,
      "metadata": {
        "colab": {
          "base_uri": "https://localhost:8080/"
        },
        "id": "A8zhUgiEuG4F",
        "outputId": "43ac8c93-f6db-48f8-b802-351cc4c61767"
      },
      "outputs": [
        {
          "name": "stdout",
          "output_type": "stream",
          "text": [
            "Acurácia da SVM (com PCA): 0.4071\n",
            "\n",
            "Relatório de Classificação (SVM com PCA):\n",
            "               precision    recall  f1-score   support\n",
            "\n",
            "           0       0.46      0.49      0.47      1000\n",
            "           1       0.46      0.49      0.48      1000\n",
            "           2       0.30      0.28      0.29      1000\n",
            "           3       0.31      0.30      0.30      1000\n",
            "           4       0.36      0.29      0.32      1000\n",
            "           5       0.35      0.32      0.34      1000\n",
            "           6       0.40      0.49      0.44      1000\n",
            "           7       0.46      0.42      0.44      1000\n",
            "           8       0.50      0.51      0.50      1000\n",
            "           9       0.45      0.47      0.46      1000\n",
            "\n",
            "    accuracy                           0.41     10000\n",
            "   macro avg       0.40      0.41      0.40     10000\n",
            "weighted avg       0.40      0.41      0.40     10000\n",
            "\n"
          ]
        }
      ],
      "source": [
        "y_pred_svm_pca = svm_model_pca.predict(x_test_pca) # Predições com dados de teste transformados\n",
        "svm_pca_accuracy = accuracy_score(y_test, y_pred_svm_pca)\n",
        "print(f\"Acurácia da SVM (com PCA): {svm_pca_accuracy:.4f}\")\n",
        "print(\"\\nRelatório de Classificação (SVM com PCA):\\n\", classification_report(y_test, y_pred_svm_pca))\n"
      ]
    },
    {
      "cell_type": "markdown",
      "metadata": {
        "id": "gSvtQK-CuH3Q"
      },
      "source": [
        "## Random Forest"
      ]
    },
    {
      "cell_type": "code",
      "execution_count": 6,
      "metadata": {
        "colab": {
          "base_uri": "https://localhost:8080/"
        },
        "id": "NIzA7PummMfY",
        "outputId": "b3633083-604e-4b3b-abf6-d71d31b5b0cf"
      },
      "outputs": [
        {
          "name": "stdout",
          "output_type": "stream",
          "text": [
            "Tempo de treinamento da Random Forest: 159.59 segundos\n"
          ]
        }
      ],
      "source": [
        "rf_model = RandomForestClassifier(max_depth=10, random_state=42)\n",
        "start_time = time.time()\n",
        "rf_model.fit(x_train, y_train)\n",
        "end_time = time.time()\n",
        "rf_training_time = end_time - start_time\n",
        "print(f\"Tempo de treinamento da Random Forest: {rf_training_time:.2f} segundos\")"
      ]
    },
    {
      "cell_type": "code",
      "execution_count": 12,
      "metadata": {
        "colab": {
          "base_uri": "https://localhost:8080/"
        },
        "id": "0XIaTRGFumul",
        "outputId": "8c674b70-cb97-43b9-9de1-5e86517c52c5"
      },
      "outputs": [
        {
          "name": "stdout",
          "output_type": "stream",
          "text": [
            "Acurácia da Random Forest: 0.4248\n",
            "\n",
            "Relatório de Classificação (Random Forest):\n",
            "               precision    recall  f1-score   support\n",
            "\n",
            "           0       0.50      0.51      0.50      1000\n",
            "           1       0.47      0.50      0.49      1000\n",
            "           2       0.39      0.16      0.23      1000\n",
            "           3       0.35      0.17      0.22      1000\n",
            "           4       0.32      0.44      0.37      1000\n",
            "           5       0.39      0.38      0.39      1000\n",
            "           6       0.39      0.55      0.45      1000\n",
            "           7       0.44      0.41      0.43      1000\n",
            "           8       0.52      0.58      0.55      1000\n",
            "           9       0.45      0.55      0.49      1000\n",
            "\n",
            "    accuracy                           0.42     10000\n",
            "   macro avg       0.42      0.42      0.41     10000\n",
            "weighted avg       0.42      0.42      0.41     10000\n",
            "\n"
          ]
        }
      ],
      "source": [
        "y_pred_rf = rf_model.predict(x_test)\n",
        "rf_accuracy = accuracy_score(y_test, y_pred_rf)\n",
        "print(f\"Acurácia da Random Forest: {rf_accuracy:.4f}\")\n",
        "print(\"\\nRelatório de Classificação (Random Forest):\\n\", classification_report(y_test, y_pred_rf))\n"
      ]
    },
    {
      "cell_type": "markdown",
      "metadata": {
        "id": "ujyLfHphoe3V"
      },
      "source": [
        "## XGBoost"
      ]
    },
    {
      "cell_type": "code",
      "execution_count": 10,
      "metadata": {
        "colab": {
          "base_uri": "https://localhost:8080/"
        },
        "id": "_0kVF-f_vHgY",
        "outputId": "005b2e56-7347-4148-8bd0-8718bb8bc184"
      },
      "outputs": [
        {
          "name": "stderr",
          "output_type": "stream",
          "text": [
            "/usr/local/lib/python3.11/dist-packages/xgboost/core.py:158: UserWarning: [20:07:05] WARNING: /workspace/src/learner.cc:740: \n",
            "Parameters: { \"use_label_encoder\" } are not used.\n",
            "\n",
            "  warnings.warn(smsg, UserWarning)\n"
          ]
        },
        {
          "name": "stdout",
          "output_type": "stream",
          "text": [
            "[0]\tvalidation_0-mlogloss:2.29878\n",
            "[1]\tvalidation_0-mlogloss:2.29501\n",
            "[2]\tvalidation_0-mlogloss:2.29124\n",
            "[3]\tvalidation_0-mlogloss:2.28762\n",
            "[4]\tvalidation_0-mlogloss:2.28391\n",
            "[5]\tvalidation_0-mlogloss:2.28032\n",
            "[6]\tvalidation_0-mlogloss:2.27685\n",
            "[7]\tvalidation_0-mlogloss:2.27327\n",
            "[8]\tvalidation_0-mlogloss:2.26973\n",
            "[9]\tvalidation_0-mlogloss:2.26631\n",
            "[10]\tvalidation_0-mlogloss:2.26292\n",
            "[11]\tvalidation_0-mlogloss:2.25963\n",
            "[12]\tvalidation_0-mlogloss:2.25632\n",
            "[13]\tvalidation_0-mlogloss:2.25312\n",
            "[14]\tvalidation_0-mlogloss:2.24992\n",
            "[15]\tvalidation_0-mlogloss:2.24673\n",
            "[16]\tvalidation_0-mlogloss:2.24356\n",
            "[17]\tvalidation_0-mlogloss:2.24046\n",
            "[18]\tvalidation_0-mlogloss:2.23740\n",
            "[19]\tvalidation_0-mlogloss:2.23435\n",
            "[20]\tvalidation_0-mlogloss:2.23143\n",
            "[21]\tvalidation_0-mlogloss:2.22838\n",
            "[22]\tvalidation_0-mlogloss:2.22544\n",
            "[23]\tvalidation_0-mlogloss:2.22247\n",
            "[24]\tvalidation_0-mlogloss:2.21951\n",
            "[25]\tvalidation_0-mlogloss:2.21664\n",
            "[26]\tvalidation_0-mlogloss:2.21386\n",
            "[27]\tvalidation_0-mlogloss:2.21102\n",
            "[28]\tvalidation_0-mlogloss:2.20826\n",
            "[29]\tvalidation_0-mlogloss:2.20546\n",
            "[30]\tvalidation_0-mlogloss:2.20275\n",
            "[31]\tvalidation_0-mlogloss:2.20009\n",
            "[32]\tvalidation_0-mlogloss:2.19737\n",
            "[33]\tvalidation_0-mlogloss:2.19472\n",
            "[34]\tvalidation_0-mlogloss:2.19217\n",
            "[35]\tvalidation_0-mlogloss:2.18959\n",
            "[36]\tvalidation_0-mlogloss:2.18694\n",
            "[37]\tvalidation_0-mlogloss:2.18433\n",
            "[38]\tvalidation_0-mlogloss:2.18175\n",
            "[39]\tvalidation_0-mlogloss:2.17927\n",
            "[40]\tvalidation_0-mlogloss:2.17675\n",
            "[41]\tvalidation_0-mlogloss:2.17429\n",
            "[42]\tvalidation_0-mlogloss:2.17184\n",
            "[43]\tvalidation_0-mlogloss:2.16939\n",
            "[44]\tvalidation_0-mlogloss:2.16697\n",
            "[45]\tvalidation_0-mlogloss:2.16456\n",
            "[46]\tvalidation_0-mlogloss:2.16220\n",
            "[47]\tvalidation_0-mlogloss:2.15989\n",
            "[48]\tvalidation_0-mlogloss:2.15757\n",
            "[49]\tvalidation_0-mlogloss:2.15528\n",
            "[50]\tvalidation_0-mlogloss:2.15302\n",
            "[51]\tvalidation_0-mlogloss:2.15073\n",
            "[52]\tvalidation_0-mlogloss:2.14852\n",
            "[53]\tvalidation_0-mlogloss:2.14630\n",
            "[54]\tvalidation_0-mlogloss:2.14402\n",
            "[55]\tvalidation_0-mlogloss:2.14185\n",
            "[56]\tvalidation_0-mlogloss:2.13968\n",
            "[57]\tvalidation_0-mlogloss:2.13751\n",
            "[58]\tvalidation_0-mlogloss:2.13540\n",
            "[59]\tvalidation_0-mlogloss:2.13334\n",
            "[60]\tvalidation_0-mlogloss:2.13118\n",
            "[61]\tvalidation_0-mlogloss:2.12908\n",
            "[62]\tvalidation_0-mlogloss:2.12697\n",
            "[63]\tvalidation_0-mlogloss:2.12492\n",
            "[64]\tvalidation_0-mlogloss:2.12290\n",
            "[65]\tvalidation_0-mlogloss:2.12086\n",
            "[66]\tvalidation_0-mlogloss:2.11885\n",
            "[67]\tvalidation_0-mlogloss:2.11682\n",
            "[68]\tvalidation_0-mlogloss:2.11478\n",
            "[69]\tvalidation_0-mlogloss:2.11282\n",
            "[70]\tvalidation_0-mlogloss:2.11087\n",
            "[71]\tvalidation_0-mlogloss:2.10886\n",
            "[72]\tvalidation_0-mlogloss:2.10694\n",
            "[73]\tvalidation_0-mlogloss:2.10505\n",
            "[74]\tvalidation_0-mlogloss:2.10318\n",
            "[75]\tvalidation_0-mlogloss:2.10127\n",
            "[76]\tvalidation_0-mlogloss:2.09939\n",
            "[77]\tvalidation_0-mlogloss:2.09755\n",
            "[78]\tvalidation_0-mlogloss:2.09568\n",
            "[79]\tvalidation_0-mlogloss:2.09384\n",
            "[80]\tvalidation_0-mlogloss:2.09199\n",
            "[81]\tvalidation_0-mlogloss:2.09019\n",
            "[82]\tvalidation_0-mlogloss:2.08837\n",
            "[83]\tvalidation_0-mlogloss:2.08660\n",
            "[84]\tvalidation_0-mlogloss:2.08481\n",
            "[85]\tvalidation_0-mlogloss:2.08301\n",
            "[86]\tvalidation_0-mlogloss:2.08124\n",
            "[87]\tvalidation_0-mlogloss:2.07951\n",
            "[88]\tvalidation_0-mlogloss:2.07782\n",
            "[89]\tvalidation_0-mlogloss:2.07612\n",
            "[90]\tvalidation_0-mlogloss:2.07446\n",
            "[91]\tvalidation_0-mlogloss:2.07280\n",
            "[92]\tvalidation_0-mlogloss:2.07116\n",
            "[93]\tvalidation_0-mlogloss:2.06947\n",
            "[94]\tvalidation_0-mlogloss:2.06786\n",
            "[95]\tvalidation_0-mlogloss:2.06617\n",
            "[96]\tvalidation_0-mlogloss:2.06459\n",
            "[97]\tvalidation_0-mlogloss:2.06296\n",
            "[98]\tvalidation_0-mlogloss:2.06136\n",
            "[99]\tvalidation_0-mlogloss:2.05979\n",
            "Tempo de treinamento do XGBoost: 1347.72 segundos\n"
          ]
        }
      ],
      "source": [
        "xgb_model = xgb.XGBClassifier(\n",
        "    objective='multi:softmax',\n",
        "    num_class=10,\n",
        "    n_estimators=100,\n",
        "    max_depth=3,\n",
        "    learning_rate=0.01,\n",
        "    subsample=0.8,\n",
        "    colsample_bytree=0.8,\n",
        "    random_state=42,\n",
        "    use_label_encoder=False,\n",
        "    eval_metric='mlogloss'\n",
        ")\n",
        "start_time = time.time()\n",
        "\n",
        "# Fit the model on the full dataset, using the validation set for early stopping\n",
        "xgb_model.fit(x_train, y_train, eval_set=[(x_val, y_val)])\n",
        "end_time = time.time()\n",
        "xgb_training_time = end_time - start_time\n",
        "print(f\"Tempo de treinamento do XGBoost: {xgb_training_time:.2f} segundos\")"
      ]
    },
    {
      "cell_type": "code",
      "execution_count": 11,
      "metadata": {
        "colab": {
          "base_uri": "https://localhost:8080/"
        },
        "id": "XZYo67-GvRGT",
        "outputId": "945355d4-742a-4c64-9422-71d9d0c9de4b"
      },
      "outputs": [
        {
          "name": "stdout",
          "output_type": "stream",
          "text": [
            "Acurácia do XGBoost: 0.3657\n",
            "\n",
            "Relatório de Classificação (XGBoost):\n",
            "               precision    recall  f1-score   support\n",
            "\n",
            "           0       0.44      0.49      0.46      1000\n",
            "           1       0.40      0.44      0.42      1000\n",
            "           2       0.31      0.14      0.19      1000\n",
            "           3       0.27      0.10      0.15      1000\n",
            "           4       0.25      0.36      0.30      1000\n",
            "           5       0.36      0.35      0.35      1000\n",
            "           6       0.32      0.49      0.39      1000\n",
            "           7       0.41      0.28      0.34      1000\n",
            "           8       0.45      0.51      0.48      1000\n",
            "           9       0.41      0.50      0.45      1000\n",
            "\n",
            "    accuracy                           0.37     10000\n",
            "   macro avg       0.36      0.37      0.35     10000\n",
            "weighted avg       0.36      0.37      0.35     10000\n",
            "\n"
          ]
        }
      ],
      "source": [
        "y_pred_xgb = xgb_model.predict(x_test)\n",
        "xgb_accuracy = accuracy_score(y_test, y_pred_xgb)\n",
        "print(f\"Acurácia do XGBoost: {xgb_accuracy:.4f}\")\n",
        "print(\"\\nRelatório de Classificação (XGBoost):\\n\", classification_report(y_test, y_pred_xgb))"
      ]
    },
    {
      "cell_type": "code",
      "execution_count": null,
      "metadata": {
        "id": "ghPBb8Va6tHQ"
      },
      "outputs": [],
      "source": []
    }
  ],
  "metadata": {
    "accelerator": "GPU",
    "colab": {
      "gpuType": "T4",
      "provenance": []
    },
    "kernelspec": {
      "display_name": "Python 3",
      "name": "python3"
    },
    "language_info": {
      "name": "python"
    }
  },
  "nbformat": 4,
  "nbformat_minor": 0
}
